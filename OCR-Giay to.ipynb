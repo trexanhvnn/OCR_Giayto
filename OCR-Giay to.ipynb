{
 "cells": [
  {
   "cell_type": "code",
   "execution_count": 58,
   "metadata": {},
   "outputs": [],
   "source": [
    "import pytesseract\n",
    "import cv2\n",
    "import os\n",
    "from PIL import Image"
   ]
  },
  {
   "cell_type": "code",
   "execution_count": 59,
   "metadata": {},
   "outputs": [],
   "source": [
    "pytesseract.pytesseract.tesseract_cmd = (\n",
    "    r\"C:\\Program Files\\Tesseract-OCR\\tesseract.exe\"\n",
    ")"
   ]
  },
  {
   "cell_type": "code",
   "execution_count": 60,
   "metadata": {},
   "outputs": [
    {
     "name": "stdout",
     "output_type": "stream",
     "text": [
      "<PIL.JpegImagePlugin.JpegImageFile image mode=RGB size=2568x1926 at 0x2B2E34CC250>\n"
     ]
    }
   ],
   "source": [
    "# image = cv2.imread(\"29H-63289 29281797.jpg\",0)\n",
    "image = Image.open(\"99A-69643T.jpg\")\n",
    "print(image)"
   ]
  },
  {
   "cell_type": "code",
   "execution_count": 61,
   "metadata": {},
   "outputs": [],
   "source": [
    "text = pytesseract.image_to_string(image,lang='vie')"
   ]
  },
  {
   "cell_type": "code",
   "execution_count": 62,
   "metadata": {},
   "outputs": [
    {
     "name": "stdout",
     "output_type": "stream",
     "text": [
      "Tên chủ xe(Owner's full name):\n",
      "\n",
      "CÔNG TY TNHH META TECH VINA\n",
      "\n",
      "Địa chỉ (Address):\n",
      "\n",
      "Áp Đồn, Yên Trung, Yên Phong, Bắc Ninh\n",
      "\n",
      "Nhãn hiệu(Brand): TOYOTA Số loại(Model code): AVANZA\n",
      "\n",
      "Loại xe(type): Ô tô con Màu sơn(Color): Bạt\n",
      "\n",
      "Số máy (Engine N°):; 2NRY095471\n",
      "\n",
      "Số khung(Chassis N°): RL4ABIBBIP600134672> x°\n",
      "\n",
      "Trọng tải(Gross woigpht); Số chỗ ngồi (Sbeats): 7\n",
      "\n",
      "KL toàn bộ (Total mass): 17052kg KEk6o thep(Towed mass): kg\n",
      "\n",
      "Biến số đăng ký Xên Phong, ñuày 24 tháng 09 năm\n",
      "(Numbcr Platc) TRƯỞNG CAIHUYÊX\n",
      "\n",
      "99A-696.431P\n",
      "\n",
      "Giá trị đến ngày\n",
      "(datc Of oxpiry):\n",
      "\n",
      "\n"
     ]
    }
   ],
   "source": [
    "print(text)"
   ]
  },
  {
   "cell_type": "code",
   "execution_count": 63,
   "metadata": {},
   "outputs": [
    {
     "name": "stdout",
     "output_type": "stream",
     "text": [
      "[\"Tên chủ xe(Owner's full name):\", '', 'CÔNG TY TNHH META TECH VINA', '', 'Địa chỉ (Address):', '', 'Áp Đồn, Yên Trung, Yên Phong, Bắc Ninh', '', 'Nhãn hiệu(Brand): TOYOTA Số loại(Model code): AVANZA', '', 'Loại xe(type): Ô tô con Màu sơn(Color): Bạt', '', 'Số máy (Engine N°):; 2NRY095471', '', 'Số khung(Chassis N°): RL4ABIBBIP600134672> x°', '', 'Trọng tải(Gross woigpht); Số chỗ ngồi (Sbeats): 7', '', 'KL toàn bộ (Total mass): 17052kg KEk6o thep(Towed mass): kg', '', 'Biến số đăng ký Xên Phong, ñuày 24 tháng 09 năm', '(Numbcr Platc) TRƯỞNG CAIHUYÊX', '', '99A-696.431P', '', 'Giá trị đến ngày', '(datc Of oxpiry):', '', '']\n"
     ]
    }
   ],
   "source": [
    "lines = text.split('\\n')\n",
    "print(lines)\n"
   ]
  },
  {
   "cell_type": "code",
   "execution_count": 64,
   "metadata": {},
   "outputs": [
    {
     "name": "stdout",
     "output_type": "stream",
     "text": [
      "CÔNG TY TNHH META TECH VINA\n",
      "Áp Đồn, Yên Trung, Yên Phong, Bắc Ninh\n",
      "Nhãn hiệu(Brand): TOYOTA Số loại(Model code): AVANZA\n",
      "Số máy (Engine N°):; 2NRY095471\n",
      "Số khung(Chassis N°): RL4ABIBBIP600134672> x°\n",
      "99A-696.431P\n"
     ]
    }
   ],
   "source": [
    "Name = lines[2]\n",
    "DiaChi = lines[6]\n",
    "Hangxes = lines[8]\n",
    "SoMays = lines[12]\n",
    "SoKhungs = lines[14]\n",
    "BienSo = lines[23]\n",
    "\n",
    "\n",
    "print(Name)\n",
    "print(DiaChi)\n",
    "print(Hangxes)\n",
    "print(SoMays)\n",
    "print(SoKhungs)\n",
    "print(BienSo)"
   ]
  },
  {
   "cell_type": "code",
   "execution_count": 65,
   "metadata": {},
   "outputs": [
    {
     "name": "stdout",
     "output_type": "stream",
     "text": [
      "RL4ABIBBIP600134672> x°\n",
      "; 2NRY095471\n",
      "None\n",
      "None\n"
     ]
    }
   ],
   "source": [
    "def Tach(line):\n",
    "    parts = line.split(':')\n",
    "    if len(parts) == 2:\n",
    "        field_name = parts[0].strip()\n",
    "        field_value = parts[1].strip()\n",
    "        print(field_value)\n",
    "\n",
    "SoKhung = Tach(SoKhungs)\n",
    "somay = Tach(SoMays)\n",
    "\n",
    "print(somay)\n",
    "print(SoKhung)\n"
   ]
  },
  {
   "cell_type": "code",
   "execution_count": 79,
   "metadata": {},
   "outputs": [
    {
     "name": "stdout",
     "output_type": "stream",
     "text": [
      "Nhãn hiệu(Brand): TOYOTA Số loại(Model code): AVANZA\n",
      "3\n",
      "TOYOTA\n",
      "AVANZA\n"
     ]
    }
   ],
   "source": [
    "print(Hangxes)\n",
    "Hangxe = Hangxes.split(':')\n",
    "print(len(Hangxe))\n",
    "if len(Hangxe) == 3:\n",
    "    Hang = Hangxe[1].strip().split(' ')[0]\n",
    "    LoaiXe = Hangxe[2].strip()\n",
    "    print(Hang)\n",
    "    print(LoaiXe)"
   ]
  }
 ],
 "metadata": {
  "kernelspec": {
   "display_name": "Python 3",
   "language": "python",
   "name": "python3"
  },
  "language_info": {
   "codemirror_mode": {
    "name": "ipython",
    "version": 3
   },
   "file_extension": ".py",
   "mimetype": "text/x-python",
   "name": "python",
   "nbconvert_exporter": "python",
   "pygments_lexer": "ipython3",
   "version": "3.11.3"
  }
 },
 "nbformat": 4,
 "nbformat_minor": 2
}
